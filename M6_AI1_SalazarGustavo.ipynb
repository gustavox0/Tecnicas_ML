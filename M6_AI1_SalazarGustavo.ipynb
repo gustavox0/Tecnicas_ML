{
  "nbformat": 4,
  "nbformat_minor": 0,
  "metadata": {
    "colab": {
      "provenance": [],
      "authorship_tag": "ABX9TyMmLmKaoCxdW/PbTsU75GOP",
      "include_colab_link": true
    },
    "kernelspec": {
      "name": "python3",
      "display_name": "Python 3"
    },
    "language_info": {
      "name": "python"
    }
  },
  "cells": [
    {
      "cell_type": "markdown",
      "metadata": {
        "id": "view-in-github",
        "colab_type": "text"
      },
      "source": [
        "<a href=\"https://colab.research.google.com/github/gustavox0/Tecnicas_ML/blob/main/M6_AI1_SalazarGustavo.ipynb\" target=\"_parent\"><img src=\"https://colab.research.google.com/assets/colab-badge.svg\" alt=\"Open In Colab\"/></a>"
      ]
    },
    {
      "cell_type": "markdown",
      "source": [
        "## Contexto\n",
        "\n",
        "El dataset Medical Cost Personal Dataset, disponible públicamente en Kaggle, recopila información de pacientes y sus costes médicos en EE.UU. A partir de variables como edad, índice de masa corporal (IMC), tabaquismo, sexo, número de hijos o región, podemos tratar de predecir diferentes objetivos relacionados con los costes sanitarios.\n",
        "\n",
        "En esta actividad, convertiremos el problema en una tarea de clasificación binaria: predecir si una persona tiene un coste médico alto o bajo a partir de las variables disponibles.\n"
      ],
      "metadata": {
        "id": "uikOMcPjC01-"
      }
    },
    {
      "cell_type": "markdown",
      "source": [
        "## Descripción de las variables:\n",
        "\n",
        "\n",
        "Cada fila representa una persona asegurada. Las variables disponibles son:\n",
        "\n",
        "age: edad del paciente\n",
        "sex: sexo (categoría: male, female)\n",
        "bmi: índice de masa corporal\n",
        "children: número de hijos a cargo\n",
        "smoker: si es fumador o no (categoría: yes, no)\n",
        "region: zona geográfica (categoría: northeast, northwest, southeast, southwest)\n",
        "charges: coste total del seguro médico"
      ],
      "metadata": {
        "id": "RLLyYKaBDCsY"
      }
    },
    {
      "cell_type": "markdown",
      "source": [
        "# Preparación del Entorno"
      ],
      "metadata": {
        "id": "v91oxFnPDLw0"
      }
    },
    {
      "cell_type": "code",
      "source": [],
      "metadata": {
        "id": "5nMIRdtHDtZY"
      },
      "execution_count": null,
      "outputs": []
    },
    {
      "cell_type": "markdown",
      "source": [
        "##Carga del dataset"
      ],
      "metadata": {
        "id": "ZLOV5uJjDvCk"
      }
    },
    {
      "cell_type": "code",
      "source": [],
      "metadata": {
        "id": "RoL53bz5DyJy"
      },
      "execution_count": null,
      "outputs": []
    },
    {
      "cell_type": "markdown",
      "source": [
        "## Preparación del dataset\n",
        "\n",
        "  - Crear una nueva variable high_cost que tome el valor 1 si el coste (charges) es superior a 16.000 (aproximadamente el percentil 75), y 0 en caso contrario.\n",
        "  - El objetivo es aplicar el algoritmo de ÁRBOLES de DECISIÓN para predecir si una persona pertenece o no al grupo de alto coste."
      ],
      "metadata": {
        "id": "p48dizUVDzzz"
      }
    },
    {
      "cell_type": "code",
      "source": [],
      "metadata": {
        "id": "H7v17YiaD9Z0"
      },
      "execution_count": null,
      "outputs": []
    },
    {
      "cell_type": "markdown",
      "source": [
        "# Ejercicios"
      ],
      "metadata": {
        "id": "cWCJl4d7EXa4"
      }
    },
    {
      "cell_type": "markdown",
      "source": [
        "1. Exploración inicial del dataset\n",
        "\n",
        "    * Análisis básico del contenido y distribución de variables.\n",
        "\n",
        "    * Cálculo del valor de corte (percentil 75) y creación de la variable high_cost.\n"
      ],
      "metadata": {
        "id": "xEHOZqSaBiWS"
      }
    },
    {
      "cell_type": "markdown",
      "source": [
        "2. Preprocesamiento\n",
        "\n",
        "  * Conversión de variables categóricas (sex, smoker, region) a variables numéricas (por ejemplo, con LabelEncoder o OneHotEncoder).\n",
        "\n",
        "  * Escalado opcional de variables numéricas si se considera necesario.\n"
      ],
      "metadata": {
        "id": "IpTZ23hsDaoo"
      }
    },
    {
      "cell_type": "markdown",
      "source": [
        "3. Entrenamiento del modelo\n",
        "\n",
        "  * Separar datos en train/test.\n",
        "\n",
        "  * Entrenar un modelo de árbol de decisión (DecisionTreeClassifier).\n",
        "\n",
        "  * Probar diferentes hiperparámetros (max_depth, min_samples_split, etc.).\n",
        "\n"
      ],
      "metadata": {
        "id": "YhJodwr7FTpL"
      }
    },
    {
      "cell_type": "markdown",
      "source": [
        "4. Visualización\n",
        "\n",
        "  * Visualizar el árbol usando plot_tree o graphviz.\n",
        "\n",
        "  * Representar gráficamente la importancia de las variables.\n",
        "\n"
      ],
      "metadata": {
        "id": "aZoquZLqFepD"
      }
    },
    {
      "cell_type": "markdown",
      "source": [
        "5. Evaluación\n",
        "\n",
        "  * Evaluar con matriz de confusión, accuracy, precision, recall, f1-score.\n",
        "\n",
        "  * Analizar posibles problemas de sobreajuste o infraajuste.\n",
        "\n",
        "\n"
      ],
      "metadata": {
        "id": "C88aN_ipFoiH"
      }
    },
    {
      "cell_type": "markdown",
      "source": [
        "6. Explicabilidad\n",
        "\n",
        "  * Usar SHAP (o alternativamente sklearn.inspection) para interpretar el modelo.\n",
        "  * Explicar por qué el modelo toma ciertas decisiones para algunos casos concretos.\n"
      ],
      "metadata": {
        "id": "HB5flnbOFuxU"
      }
    },
    {
      "cell_type": "markdown",
      "source": [
        "7. Predicción de nuevos casos\n",
        "\n",
        "  * Crear dos perfiles hipotéticos de pacientes.\n",
        "\n",
        "  * Estimar si pertenecerían o no al grupo de alto coste.\n",
        "  * Justificar con el modelo entrenado qué variables han influido más.––"
      ],
      "metadata": {
        "id": "7ubLBonVF2Rh"
      }
    }
  ]
}